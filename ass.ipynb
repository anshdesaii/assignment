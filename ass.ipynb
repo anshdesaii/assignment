{
 "cells": [
  {
   "cell_type": "code",
   "execution_count": 5,
   "id": "44b90a78",
   "metadata": {},
   "outputs": [
    {
     "name": "stdout",
     "output_type": "stream",
     "text": [
      "3\n"
     ]
    }
   ],
   "source": [
    "#Write a python program to sum of the first n positive integers\n",
    "sum=0\n",
    "num=int(input(\"enter the  number\"))\n",
    "i=0\n",
    "while i<=num:\n",
    "    sum+=i\n",
    "    i+=1\n",
    "print(sum)\n"
   ]
  },
  {
   "cell_type": "code",
   "execution_count": null,
   "id": "850377e3",
   "metadata": {},
   "outputs": [],
   "source": []
  },
  {
   "cell_type": "code",
   "execution_count": null,
   "id": "567e5f99",
   "metadata": {},
   "outputs": [],
   "source": [
    "#Write a Python program to count occurrences of a substring in a string\n",
    "string =\"hello djkabiqa hello ddadfkjaa hello\"\n",
    "count_substr= string.count(\"hello\")\n",
    "print(count_substr)"
   ]
  },
  {
   "cell_type": "code",
   "execution_count": null,
   "id": "470a1090",
   "metadata": {},
   "outputs": [],
   "source": [
    "#Write a Python program to count the occurrences of each word in a givensentence.\n",
    "string=\"hello world lets count the occurance of each words\"\n",
    "dict={}\n",
    "li=string.split()\n",
    "for i in li:\n",
    "     if i in dict:\n",
    "         dict[i]+=1\n",
    "\n",
    "     else :\n",
    "         dict[i]=1\n",
    "\n",
    "\n",
    "print(dict)"
   ]
  },
  {
   "cell_type": "code",
   "execution_count": null,
   "id": "d24c1716",
   "metadata": {},
   "outputs": [],
   "source": [
    "#Write a Python program to get a single string from two given strings, separatedbya space and swap the first two characters of each string\n",
    "a = 'abc'\n",
    "b = 'xyz'\n",
    "print(\"Before Swap :\",a,\" \",b)\n",
    "a1 = b[0::3] + a[1:]\n",
    "b1 = a[0::3] + b[1:]\n",
    "print(\"After Swap :\",a1,\" \",b1)\n",
    "\n"
   ]
  },
  {
   "cell_type": "code",
   "execution_count": null,
   "id": "620de44e",
   "metadata": {},
   "outputs": [],
   "source": [
    "# Write a Python program to add 'ing' at the end of a given string (length shouldbeat least 3). If the given string already ends with 'ing' then add 'ly' instead If thestring length of the given string is less than 3, leave it \n",
    "string=\"hello\"\n",
    "le=len(string)\n",
    "if le>2:\n",
    "    if string[::-3]==\"ing\":\n",
    "        string+=\"ly\"\n",
    "    else :\n",
    "        string+=\"ing\"\n",
    "print(string)\n"
   ]
  },
  {
   "cell_type": "code",
   "execution_count": null,
   "id": "006658f9",
   "metadata": {},
   "outputs": [],
   "source": [
    "\n",
    "#Write a Python program to find the first appearance of the substring 'not' and\n",
    "#'poor' from a given string, if 'not' follows the 'poor', replace the whole 'not'...'poor' substring with 'good'. Return the resulting string\n",
    "s=\"your performance is not poor \"\n",
    "a=s.find(\"not\")\n",
    "b=s.find(\"poor\")\n",
    "if b>a and a>0 and b>0:\n",
    "   s1=s.replace(s[a:b+4],\"good\")\n",
    "   print(s1)\n",
    "else:\n",
    "    print(s)"
   ]
  },
  {
   "cell_type": "code",
   "execution_count": 14,
   "id": "f10b11b3",
   "metadata": {},
   "outputs": [
    {
     "name": "stdout",
     "output_type": "stream",
     "text": [
      "4\n"
     ]
    }
   ],
   "source": [
    "#Program to find Greatest Common Divisor of two numbers. For example, the\n",
    "#GCD of 20 and 28 is 4 and the GCD of 98 and 56 is 1\n",
    "num =20\n",
    "num2=28  \n",
    "for i in range(1,num+1):\n",
    "   if num%i==0 and num2%i==0:\n",
    "     gcd=i\n",
    "      \n",
    "print(gcd)\n"
   ]
  },
  {
   "cell_type": "code",
   "execution_count": 15,
   "id": "829db1a6",
   "metadata": {},
   "outputs": [
    {
     "name": "stdout",
     "output_type": "stream",
     "text": [
      "sublist present\n"
     ]
    }
   ],
   "source": [
    "#Write a Python program to check whether a list contains a sublist\n",
    "list1=[[1,2,3],[4,5,6],[7,8,9]]\n",
    "list2=[4,5,6]\n",
    "if list2 in list1 :\n",
    "    print(\"sublist present\")\n",
    "else:\n",
    "    print(\"not present\")"
   ]
  },
  {
   "cell_type": "code",
   "execution_count": 24,
   "id": "3808c8ff",
   "metadata": {},
   "outputs": [
    {
     "name": "stdout",
     "output_type": "stream",
     "text": [
      "4\n"
     ]
    }
   ],
   "source": [
    "# Write a Python program to find the second smallest number in a list\n",
    "list1=[1,26,33,4,56,16]\n",
    "list1.sort()\n",
    "print(list1[1])"
   ]
  },
  {
   "cell_type": "code",
   "execution_count": 26,
   "id": "05c45c0f",
   "metadata": {},
   "outputs": [
    {
     "name": "stdout",
     "output_type": "stream",
     "text": [
      "Unique values from the list: [1, 2, 3, 4, 5, 6]\n"
     ]
    }
   ],
   "source": [
    "# Write a Python program to get unique values from a list \n",
    "input_list = eval(input(\"Enter the list: \"))\n",
    "unique_values = []\n",
    "\n",
    "for item in input_list:\n",
    "    if item not in unique_values:\n",
    "        unique_values.append(item)\n",
    "\n",
    "print(\"Unique values from the list:\", unique_values)"
   ]
  },
  {
   "cell_type": "code",
   "execution_count": 27,
   "id": "193481ef",
   "metadata": {},
   "outputs": [
    {
     "name": "stdout",
     "output_type": "stream",
     "text": [
      "('Ahmedabad', 'Hyderabad', 'Silchar', 'Agartala', 'Namchi')\n",
      "('Gujarat', 'Telangana', 'Assam', 'Tripura', 'Sikkim')\n"
     ]
    }
   ],
   "source": [
    "Places = [('Ahmedabad', 'Gujarat'), ('Hyderabad', 'Telangana'), ('Silchar', 'Assam'), ('Agartala', 'Tripura'), ('Namchi', 'Sikkim')] # The input of tuples is given\n",
    "City, States = zip(*Places) \n",
    "print(City)\n",
    "print(States)"
   ]
  },
  {
   "cell_type": "code",
   "execution_count": 28,
   "id": "b5b1de3c",
   "metadata": {},
   "outputs": [
    {
     "name": "stdout",
     "output_type": "stream",
     "text": [
      "{'Key 1': 1, 'Key 2': 2, 'Key 3': 3, 'Key 4': 4, 'Key 5': 5}\n"
     ]
    }
   ],
   "source": [
    "tuples = [('Key 1', 1), ('Key 2', 2), ('Key 3', 3), ('Key 4', 4), ('Key 5', 5)]\n",
    "\n",
    "\n",
    "result = dict(tuples)\n",
    "\n",
    "print(result)"
   ]
  },
  {
   "cell_type": "code",
   "execution_count": 35,
   "id": "b64b7a1c",
   "metadata": {},
   "outputs": [
    {
     "name": "stdout",
     "output_type": "stream",
     "text": [
      "[5, 4, 3, 2, 1]\n"
     ]
    }
   ],
   "source": [
    "#Write a Python program to sort a dictionary (ascending /descending) by value\n",
    "dict1={'Key 1': 1, 'Key 2': 2, 'Key 3': 3, 'Key 4': 4, 'Key 5': 5}\n",
    "sort_d=sorted(dict1.values(),reverse=True)\n",
    "print(sort_d)"
   ]
  },
  {
   "cell_type": "code",
   "execution_count": 39,
   "id": "6752558b",
   "metadata": {},
   "outputs": [
    {
     "data": {
      "text/plain": [
       "[5, 4, 3]"
      ]
     },
     "execution_count": 39,
     "metadata": {},
     "output_type": "execute_result"
    }
   ],
   "source": [
    "#Write a Python program to find the highest 3 values in a dictionary\n",
    "dict1={'Key 1': 1, 'Key 2': 2, 'Key 3': 3, 'Key 4': 4, 'Key 5': 5}\n",
    "sort_d=sorted(dict1.values(),reverse=True)\n",
    "\n",
    "sort_d[0:3:1]"
   ]
  },
  {
   "cell_type": "code",
   "execution_count": null,
   "id": "6de393b7",
   "metadata": {},
   "outputs": [],
   "source": []
  },
  {
   "cell_type": "code",
   "execution_count": 9,
   "id": "705d8448",
   "metadata": {},
   "outputs": [
    {
     "name": "stdout",
     "output_type": "stream",
     "text": [
      "[1, 1, 2, 3, 5, 8]\n"
     ]
    }
   ],
   "source": [
    "#Given a number n, write a python program to make and print the list of Fibonacci\n",
    " #series up to n\n",
    "n=int(input(\"enter the number\"))\n",
    "a=0\n",
    "b=1\n",
    "fab=[]\n",
    "while a<=n:\n",
    "    a,b=b,a+b\n",
    "    fab.append(a)\n",
    "print(fab)\n",
    "   "
   ]
  },
  {
   "cell_type": "code",
   "execution_count": 10,
   "id": "0acffc90",
   "metadata": {},
   "outputs": [
    {
     "name": "stdout",
     "output_type": "stream",
     "text": [
      "Frequencies: {1: 5, 5: 2, 3: 3, 4: 3, 2: 4}\n"
     ]
    }
   ],
   "source": [
    "numbers = [1, 1, 1, 5, 5, 3, 1, 3, 3, 1, 4, 4, 4, 2, 2, 2, 2]\n",
    "\n",
    "frequency = {}\n",
    "\n",
    "for num in numbers:\n",
    "    if num in frequency:\n",
    "        frequency[num] += 1\n",
    "    else:\n",
    "        frequency[num] = 1\n",
    "\n",
    "\n",
    "print(\"Frequencies:\", frequency)"
   ]
  },
  {
   "cell_type": "code",
   "execution_count": 16,
   "id": "e2910021",
   "metadata": {},
   "outputs": [
    {
     "name": "stdout",
     "output_type": "stream",
     "text": [
      "2.718055555555556\n",
      "2.7166666666666663\n"
     ]
    }
   ],
   "source": [
    "import math\n",
    "#Write a python program using function to find the sum of odd series and even\n",
    " #series\n",
    " #Odd series: 12/ 1! +32/ 3! + 52/ 5!+……n\n",
    " #Even series: 22/ 2! + 42/ 4! + 62/ 6!+……n\n",
    "n=int(input(\"enter a number\"))\n",
    "odd_sum=0\n",
    "for i in range(1,n+1,2):\n",
    "    term=(i**2)/math.factorial(i)\n",
    "    odd_sum+=term\n",
    "\n",
    "even_sum=0\n",
    "for i in range(2,n+1,2):\n",
    "    term=(i**2)/math.factorial(i)\n",
    "    even_sum+=term\n",
    "\n",
    "print(odd_sum)\n",
    "print(even_sum)"
   ]
  },
  {
   "cell_type": "code",
   "execution_count": 18,
   "id": "415344aa",
   "metadata": {},
   "outputs": [
    {
     "name": "stdout",
     "output_type": "stream",
     "text": [
      "120\n"
     ]
    }
   ],
   "source": [
    "num=int(input(\"enter the num\"))\n",
    "def fact(n):\n",
    "    if n==0 or n==1:\n",
    "     return 1\n",
    "    else:\n",
    "     return n*(fact(n-1))\n",
    "print(fact(num))"
   ]
  },
  {
   "cell_type": "code",
   "execution_count": 20,
   "id": "5f802bd1",
   "metadata": {},
   "outputs": [
    {
     "name": "stdout",
     "output_type": "stream",
     "text": [
      "Original List: [1, 2, 2, 3, 4, 4, 5, 1]\n",
      "Unique List: [1, 2, 3, 4, 5]\n"
     ]
    }
   ],
   "source": [
    "def get_unique_elements(input_list):\n",
    "    unique_list = []\n",
    "    for item in input_list:\n",
    "        if item not in unique_list:\n",
    "            unique_list.append(item)\n",
    "    return unique_list\n",
    "my_list = [1, 2, 2, 3, 4, 4, 5, 1]\n",
    "unique = get_unique_elements(my_list)\n",
    "print(\"Original List:\", my_list)\n",
    "print(\"Unique List:\", unique)"
   ]
  },
  {
   "cell_type": "code",
   "execution_count": 22,
   "id": "17e92b2d",
   "metadata": {},
   "outputs": [
    {
     "name": "stdout",
     "output_type": "stream",
     "text": [
      "\n",
      " User created:\n",
      "User ID: 162256\n",
      "Name: ansh\n",
      "Password: whOLo$6aws6#\n"
     ]
    }
   ],
   "source": [
    "import random\n",
    "import string\n",
    "\n",
    "# Simple User class\n",
    "class User:\n",
    "    def __init__(self, user_id, name, password):\n",
    "        self.info = (user_id, name, password)\n",
    "\n",
    "    def show(self):\n",
    "        print(\"User ID:\", self.info[0])\n",
    "        print(\"Name:\", self.info[1])\n",
    "        print(\"Password:\", self.info[2])\n",
    "\n",
    "# Function to generate a password\n",
    "def create_password(words):\n",
    "    try:\n",
    "        # Choose 2 random words from the list\n",
    "        base = ''.join(random.sample(words, 2))\n",
    "        \n",
    "        # Add 2 digits, 2 special chars, 2 uppercase letters\n",
    "        digits = random.choices(string.digits, k=2)\n",
    "        specials = random.choices('!@#$%', k=2)\n",
    "        upper = random.choices(string.ascii_uppercase, k=2)\n",
    "\n",
    "        # Combine all parts\n",
    "        password = list(base + ''.join(digits + specials + upper))\n",
    "        random.shuffle(password)\n",
    "        final_password = ''.join(password)\n",
    "\n",
    "        # Make sure password is long enough\n",
    "        if len(final_password) < 9:\n",
    "            return None\n",
    "        return final_password\n",
    "\n",
    "    except:\n",
    "        return None\n",
    "\n",
    "# Main code\n",
    "user_id = input(\"Enter user ID: \")\n",
    "name = input(\"Enter your name: \")\n",
    "text = input(\"Enter some words (space-separated): \")\n",
    "\n",
    "words = text.split()\n",
    "password = create_password(words)\n",
    "\n",
    "if password:\n",
    "    user = User(user_id, name, password)\n",
    "    print(\"\\n User created:\")\n",
    "    user.show()\n",
    "else:\n",
    "    print(\" Could not create a strong password. Try again with more/longer words.\")"
   ]
  }
 ],
 "metadata": {
  "kernelspec": {
   "display_name": "Python 3",
   "language": "python",
   "name": "python3"
  },
  "language_info": {
   "codemirror_mode": {
    "name": "ipython",
    "version": 3
   },
   "file_extension": ".py",
   "mimetype": "text/x-python",
   "name": "python",
   "nbconvert_exporter": "python",
   "pygments_lexer": "ipython3",
   "version": "3.13.2"
  }
 },
 "nbformat": 4,
 "nbformat_minor": 5
}
